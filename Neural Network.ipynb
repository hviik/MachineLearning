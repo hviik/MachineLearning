{
 "cells": [
  {
   "cell_type": "code",
   "execution_count": null,
   "id": "08747510",
   "metadata": {},
   "outputs": [],
   "source": [
    "import numpy as np\n",
    "import copy\n",
    "import matplotlib.pyplot as plt\n",
    "import sklearn\n",
    "import sklearn.datasets\n",
    "import sklearn.linear_model\n",
    "from planar_utils import plot_decision_boundary, sigmoid, load_planar_dataset, load_extra_datasets\n",
    "\n",
    "%matplotlib inline"
   ]
  },
  {
   "cell_type": "code",
   "execution_count": 3,
   "id": "cb48ab0a",
   "metadata": {},
   "outputs": [
    {
     "ename": "NameError",
     "evalue": "name 'load_planar_dataset' is not defined",
     "output_type": "error",
     "traceback": [
      "\u001b[1;31m---------------------------------------------------------------------------\u001b[0m",
      "\u001b[1;31mNameError\u001b[0m                                 Traceback (most recent call last)",
      "Cell \u001b[1;32mIn[3], line 1\u001b[0m\n\u001b[1;32m----> 1\u001b[0m X, Y \u001b[38;5;241m=\u001b[39m load_planar_dataset()\n\u001b[0;32m      2\u001b[0m \u001b[38;5;66;03m#m is the number of training examples\u001b[39;00m\n\u001b[0;32m      3\u001b[0m m \u001b[38;5;241m=\u001b[39m X\u001b[38;5;241m.\u001b[39mshape[\u001b[38;5;241m1\u001b[39m]\n",
      "\u001b[1;31mNameError\u001b[0m: name 'load_planar_dataset' is not defined"
     ]
    }
   ],
   "source": [
    "X, Y = load_planar_dataset()\n",
    "#m is the number of training examples\n",
    "m = X.shape[1]\n",
    "X = X.shape\n",
    "Y = Y.shape"
   ]
  },
  {
   "cell_type": "code",
   "execution_count": null,
   "id": "23b7303f",
   "metadata": {},
   "outputs": [],
   "source": [
    "class NeuralNetwork:\n",
    "    def __init__(self, X_train, Y_train, hidden_layers, activation_functions):\n",
    "        hidden_layers.insert(0, X_train.shape[0])\n",
    "        hidden_layers.append(Y_train.shape[0])\n",
    "        self.m = X_train.shape[0]\n",
    "        \n",
    "        #Initializing the network\n",
    "        for i in range(len(hidden_layers) - 1):\n",
    "            w = np.random.randn(hidden_layers[i], hidden_layers[i + 1]) \n",
    "            self.w.append(w)\n",
    "            b = np.zeros((hidden_layers[i + 1], 1))\n",
    "            self.b.append(b)\n",
    "            \n",
    "        self.activation_functions = {\n",
    "            \"relu\": relu,\n",
    "            \"sigmoid\": sigmoid,\n",
    "            \"softmax\": softmax,,\n",
    "            \"tanh\": tanh,\n",
    "            \"ReLU_grad\" ReLU_grad,\n",
    "            \"tanh_grad\" tanh_grad,\n",
    "            \"sigmoid_grad\": sigmoid_grad  \n",
    "            }\n",
    "        \n",
    "    #Activator functions:\n",
    "    def ReLU(self, x):\n",
    "        return max(0, x)\n",
    "    \n",
    "    def ReLU_grad(self, x):\n",
    "        if x > 0:\n",
    "            return 1\n",
    "        else:\n",
    "            return 0\n",
    "         \n",
    "    def sigmoid(self, x):\n",
    "        x = np.clip(x, -500, 500)  \n",
    "        return 1 / (1 + np.exp(-x))\n",
    "    \n",
    "    def softmax(self, x):\n",
    "        ex = np.exp(x - np.max(x))\n",
    "        return (ex / ex.sum(axis=0, keepdims=True))\n",
    "    \n",
    "    def softmax_grad(self, x):\n",
    "        \n",
    "    def tanh(self, x):\n",
    "        return np.tanh(x)\n",
    "    \n",
    "    def tanh_grad(self, x):\n",
    "        return (1-(np.tanh(x)**2)\n",
    "    \n",
    "    def crossENT(self, x, y):\n",
    "        return -(y * np.log(x) + (1 - y) * np.log (1 - x))\n",
    "    \n",
    "    #Grads\n",
    "    def sigmoid_grad(self, x):\n",
    "        return self.sigmoid(x) * (1 - self.sigmoid(x))\n",
    "    \n",
    "    def crossENT_grad(self, x, y):\n",
    "        e = 1e-9  \n",
    "        return -(np.divide(y, x + e) - np.divide(1 - y, 1 - x + e))\n",
    "    \n",
    "    #Forward_Prop\n",
    "    def forward_prop(self, X_train):\n",
    "        for i in self.hidden_layers:\n",
    "            \n",
    "    \n",
    "        \n",
    "    \n",
    "    \n",
    "    "
   ]
  }
 ],
 "metadata": {
  "kernelspec": {
   "display_name": "Python 3 (ipykernel)",
   "language": "python",
   "name": "python3"
  },
  "language_info": {
   "codemirror_mode": {
    "name": "ipython",
    "version": 3
   },
   "file_extension": ".py",
   "mimetype": "text/x-python",
   "name": "python",
   "nbconvert_exporter": "python",
   "pygments_lexer": "ipython3",
   "version": "3.11.5"
  }
 },
 "nbformat": 4,
 "nbformat_minor": 5
}
