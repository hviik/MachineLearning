{
 "cells": [
  {
   "cell_type": "code",
   "execution_count": 2,
   "id": "fbea5ffe-f411-4dc9-87dc-6988aa9e6cfa",
   "metadata": {},
   "outputs": [
    {
     "name": "stdout",
     "output_type": "stream",
     "text": [
      "(1797, 64)\n",
      "3\n"
     ]
    },
    {
     "data": {
      "text/plain": [
       "<Figure size 640x480 with 0 Axes>"
      ]
     },
     "metadata": {},
     "output_type": "display_data"
    },
    {
     "data": {
      "image/png": "[encoded data removed]",
      "text/plain": [
       "<Figure size 480x480 with 1 Axes>"
      ]
     },
     "metadata": {},
     "output_type": "display_data"
    }
   ],
   "source": [
    "import numpy as np\n",
    "import matplotlib.pyplot as plt\n",
    "from sklearn.datasets import load_digits\n",
    "from sklearn.utils import shuffle\n",
    "\n",
    "# Load dataset\n",
    "digits = load_digits()\n",
    "\n",
    "# Print dataset shape and target for the second sample\n",
    "print(digits.data.shape)\n",
    "print(digits.target[3])\n",
    "\n",
    "# Visualize the image of the second sample\n",
    "plt.gray()\n",
    "plt.matshow(digits.images[3])\n",
    "plt.show()\n",
    "\n",
    "# Shuffle the data, keeping the corespondence between feature vector and it's label\n",
    "np.random.seed(1)\n",
    "data_, target_ = shuffle(digits.data, digits.target)"
   ]
  },
  {
   "cell_type": "code",
   "execution_count": 3,
   "id": "3bf34820-1b5b-4eb9-ac18-e4a5d4c4f0ff",
   "metadata": {},
   "outputs": [
    {
     "name": "stdout",
     "output_type": "stream",
     "text": [
      "[ 0.          8.3369963   1.55676159  0.62348292  0.84159189  1.70138742\n",
      "  1.91442295 -0.12563545 -0.05955753  2.115924    0.92413236  0.90805457\n",
      "  0.50629541  0.40505773  0.82922685 -0.13061034 -0.04412544  0.89297863\n",
      "  0.9797157   0.834688   -1.15705571 -1.26139189 -0.54774412 -0.11488858\n",
      " -0.0333373  -0.47891083  0.71963665  0.82522503 -1.61198076 -1.28551251\n",
      " -0.63110674 -0.04722047  0.         -0.67669173  0.01640613  1.04693235\n",
      " -1.41038664 -1.49274895 -0.826222    0.         -0.06161515 -0.53487254\n",
      "  0.14031329  1.15830787 -1.22976866 -1.45846214 -0.79583077 -0.08996861\n",
      " -0.03590278  1.27829872  1.0757585   0.22534197 -1.80482941 -1.45713418\n",
      " -0.75553924 -0.21234332 -0.02359584  9.1623548   1.94719509 -1.42523668\n",
      " -2.37326603 -1.14176155 -0.50519614 -0.19619223]\n",
      "(64, 1500)\n",
      "(64, 200)\n",
      "(64, 97)\n"
     ]
    }
   ],
   "source": [
    "#normalization\n",
    "\n",
    "X_prev = data_/np.linalg.norm(data_, axis = 1, keepdims = True)\n",
    "m = X_prev.shape[0]\n",
    "e = 0.00000001 #numerical stability\n",
    "X_prev_mean = np.sum(X_prev, axis = 0, keepdims = True)/m\n",
    "X_prev_deviation = np.sqrt(np.sum((X_prev - X_prev_mean)**2, axis = 0, keepdims = True)/m)\n",
    "X_ = (X_prev - X_prev_mean)/(X_prev_deviation + e)\n",
    "#check that normalization works\n",
    "print(X_[1])\n",
    "#we will take the first 1500 examples for training, the 200 examples for development, and the last 97 examples for test.\n",
    "#we will also transpose the matrix, so that our features are column vectors instead of row vectors.\n",
    "X_train = X_[:1500].T\n",
    "print(X_train.shape)\n",
    "X_dev = X_[1500:1700].T\n",
    "print(X_dev.shape)\n",
    "X_test = X_[1700:].T\n",
    "print(X_test.shape)\n",
    "#we see that now, the feature vectors are columns of our matrices, X_train, X_dev, X_test.\n"
   ]
  },
  {
   "cell_type": "code",
   "execution_count": 4,
   "id": "1f595925-ee0a-42d7-b702-d019a4d6441e",
   "metadata": {},
   "outputs": [
    {
     "name": "stdout",
     "output_type": "stream",
     "text": [
      "(1797,)\n",
      "(1797, 10)\n",
      "0 -> [1. 0. 0. 0. 0. 0. 0. 0. 0. 0.]\n",
      "(10, 1500)\n",
      "(10, 200)\n",
      "(10, 97)\n"
     ]
    }
   ],
   "source": [
    "Y_ = target_\n",
    "print(Y_.shape)\n",
    "num_classes = int(10) \n",
    "# we will initialize so that first we have 10 rows, then transpose, as usual. \n",
    "Y = np.zeros((Y_.shape[0], num_classes))\n",
    "print(Y.shape)\n",
    "#we will perform one hot encoding now. \n",
    "row_indices = np.arange(Y_.shape[0])\n",
    "Y[row_indices, Y_] = 1\n",
    "#it is clear that our one hot encoding works\n",
    "print(f\"{Y_[5]} -> {Y[5]}\")\n",
    "#now, we do the same train, test, dev, split on Y, and also transpose to ensure our ground truth vectors are columns\n",
    "Y_train = Y[:1500].T\n",
    "print(Y_train.shape)\n",
    "Y_dev = Y[1500:1700].T\n",
    "print(Y_dev.shape)\n",
    "Y_test = Y[1700:].T\n",
    "print(Y_test.shape)"
   ]
  },
  {
   "cell_type": "code",
   "execution_count": 5,
   "id": "6b5e5c49-77ae-4da8-ab80-aeb086b5e971",
   "metadata": {},
   "outputs": [],
   "source": [
    "class Data: \n",
    "    def __init__ (self, X_train, X_dev, X_test, Y_train, Y_dev, Y_test): \n",
    "        self.XT_batches = []\n",
    "        self.YT_batches = []\n",
    "        batch_size = 300\n",
    "        for i in range(1, 6): \n",
    "            start_idx = (i - 1) * batch_size\n",
    "            end_idx = i * batch_size\n",
    "            self.XT_batches.append(X_train[:, start_idx:end_idx])\n",
    "            self.YT_batches.append(Y_train[:, start_idx:end_idx])\n",
    "            \n",
    "        self.X_dev = X_dev\n",
    "        self.Y_dev = Y_dev\n",
    "        self.X_test = X_test\n",
    "        self.Y_test = Y_test\n",
    "        self.A0_dims = X_train.shape[0]\n",
    "        self.AL_dims = Y_train.shape[0]\n",
    "\n",
    "data = Data(X_train, X_dev, X_test, Y_train, Y_dev, Y_test)"
   ]
  },
  {
   "cell_type": "code",
   "execution_count": 6,
   "id": "13b78454-f5cc-4a3a-8f31-19ea07eb4ffe",
   "metadata": {},
   "outputs": [],
   "source": [
    "class F: \n",
    "    @staticmethod\n",
    "    def prelu (Z,p): \n",
    "        return np.where(Z>0, Z, p * Z)\n",
    "        \n",
    "    @staticmethod\n",
    "    def prelu_grad (Z,p): \n",
    "        return np.where(Z>0, 1, p) \n",
    "        \n",
    "    @staticmethod\n",
    "    def softmax (Z): \n",
    "        Z_exp = np.exp(Z - np.max(Z))\n",
    "        return Z_exp/np.sum(Z_exp, axis = 0, keepdims = True)\n",
    "        \n",
    "    @staticmethod\n",
    "    def crossENT (A,Y): \n",
    "        m = A.shape[1]\n",
    "        L = -np.sum(Y * np.log(A), axis = 0, keepdims = True)\n",
    "        J = np.sum(L)/m \n",
    "        return J \n",
    "        \n",
    "    @staticmethod\n",
    "    def fprop (layer, A_prev, Y):\n",
    "        Z = np.dot(layer.W, A_prev) + layer.B\n",
    "        A = F.prelu (Z, layer.p)\n",
    "        layer.cache = {'A_prev': A_prev, 'Z' : Z, 'A' : A} \n",
    "\n",
    "    @staticmethod\n",
    "    def bprop (layer, dA, Y): \n",
    "        Z = layer.cache['Z']\n",
    "        A = layer.cache['A']\n",
    "        A_prev = layer.cache['A_prev']\n",
    "        \n",
    "        dZ = F.prelu_grad(Z, layer.p) * dA\n",
    "        layer.dW = np.dot(dZ, A_prev.T)\n",
    "        layer.dB = np.sum(dZ, axis = 1, keepdims = True)\n",
    "        layer.dA_prev = np.dot(layer.W.T, dZ)\n",
    "\n",
    "    \n",
    "    @staticmethod                      \n",
    "    def fin_fprop(layer, A_prev, Y): \n",
    "        Z = np.dot(layer.W, A_prev) + layer.B\n",
    "        A = F.softmax(Z)\n",
    "        layer.cache = {'A_prev': A_prev, 'Z' : Z, 'A' : A} \n",
    "        layer.cost = F.crossENT(A,Y)\n",
    "\n",
    "    \n",
    "    @staticmethod    \n",
    "    def fin_bprop (layer, dA, Y): \n",
    "        Z = layer.cache['Z']\n",
    "        A = layer.cache['A']\n",
    "        A_prev = layer.cache['A_prev']\n",
    "        \n",
    "        dZ = (A - Y)/m\n",
    "        layer.dW = np.dot(dZ, A_prev.T)\n",
    "        layer.dB = np.sum(dZ, axis = 1, keepdims = True)\n",
    "        layer.dA_prev = np.dot(layer.W.T, dZ)\n",
    "        \n",
    "    @staticmethod\n",
    "    def optimize (layer, alph): \n",
    "        layer.W -= alph * layer.dW\n",
    "        layer.B -= alph + layer.dB \n",
    "        \n",
    "        \n",
    "        \n",
    "    "
   ]
  },
  {
   "cell_type": "code",
   "execution_count": 7,
   "id": "8ecc8e64-3005-4678-b6fe-6681a3c3d0d7",
   "metadata": {},
   "outputs": [],
   "source": [
    "class Layer: \n",
    "    def __init__ (self, Id, Od, p_activ, final = False):\n",
    "        self.p = p_activ\n",
    "        self.W = (np.random.randn(Od, Id)) * np.sqrt(2/(Id))\n",
    "        self.dW = np.zeros_like(self.W)\n",
    "        self.B = np.zeros((Od, 1))\n",
    "        self.dB = np.zeros_like(self.B) \n",
    "        self.cache = {} \n",
    "        self.dA_prev = None\n",
    "        self.final = final\n",
    "        self.cost = None\n",
    "        \n",
    "    def opt(self, alph): \n",
    "        F.optimize(self, alph)\n",
    "        \n",
    "    def fp (self, A_prev, Y):\n",
    "        if self.final:\n",
    "            F.fin_fprop(self, A_prev, Y)\n",
    "        else:\n",
    "            F.fprop(self, A_prev, Y)\n",
    "            \n",
    "    def bp (self, dA, Y): \n",
    "        if self.final:\n",
    "            F.fin_bprop(self, dA, Y)\n",
    "        else:\n",
    "            F.bprop(self, dA, Y)\n",
    "        \n",
    "            \n"
   ]
  },
  {
   "cell_type": "code",
   "execution_count": 8,
   "id": "f982d311-4f8f-474c-b2c9-0dc8d5f3298c",
   "metadata": {},
   "outputs": [],
   "source": [
    "class Model: \n",
    "    def __init__ (self, A0_dim, AL_dim, HL_dims, p_activ): \n",
    "        self.L_dims = [A0_dim] + HL_dims + [AL_dim]\n",
    "        self.n = len(self.L_dims)\n",
    "        self.layers = [0]\n",
    "        self.layers += [Layer(self.L_dims[i-1], self.L_dims[i], p_activ, final = False) for i in range (1, self.n - 1)]\n",
    "        self.layers += [Layer(self.L_dims[self.n - 2], self.L_dims[self.n - 1], p_activ, final = True)]\n",
    "\n",
    "    def forward (self, X, Y):\n",
    "        A_prev = X\n",
    "        for i in range(1, self.n): \n",
    "            \n",
    "            self.layers[i].fp(A_prev, Y)\n",
    "            A_prev = self.layers[i].cache['A']\n",
    "            #self.fp = F.fprop(self, A_prev, Y) \n",
    "    def backward (self, X, Y): \n",
    "        dA = None \n",
    "        for i in reversed(range(1, self.n)): \n",
    "            self.layers[i].bp(dA, Y)\n",
    "            dA = self.layers[i].dA_prev\n",
    "\n",
    "    def gradient_descent(self, alph): \n",
    "        for i in range(1, self.n): \n",
    "            self.layers[i].opt(alph) \n",
    "\n",
    "    def training_epoch (self, alph, X_train_batches, Y_train_batches, printCost = False):\n",
    "        bs = len(X_train_batches)\n",
    "        for t in range (0,bs): \n",
    "            X_train = X_train_batches[t]\n",
    "            Y_train = Y_train_batches[t]\n",
    "            \n",
    "            self.forward(X_train, Y_train)\n",
    "            self.backward(X_train, Y_train)\n",
    "            self.gradient_descent(alph)\n",
    "            if printCost:\n",
    "                print(self.layers[self.n-1].cost)\n",
    "        \n",
    "    def predict (self, X, Y): \n",
    "        self.forward(X, Y)\n",
    "        fin_act = self.layers[self.n - 1].cache['A']\n",
    "        pred = np.zeros_like(fin_act)\n",
    "        max_indices = np.argmax(fin_act, axis=0)\n",
    "        pred[max_indices, np.arange(fin_act.shape[1])] = 1\n",
    "        return pred"
   ]
  },
  {
   "cell_type": "code",
   "execution_count": 9,
   "id": "57ff1b3e-5f38-44eb-8de3-b3662163f6c0",
   "metadata": {},
   "outputs": [],
   "source": [
    "#data = Data(X_train, X_dev, X_test, Y_train, Y_dev, Y_test)\n",
    "q = int(data.A0_dims)\n",
    "A0 = int(data.A0_dims)\n",
    "AL = int(data.AL_dims)\n",
    "np.random.seed(6)\n",
    "n = 5\n",
    "HL_dims = [np.random.randint(q-10, q + 10) for _ in range (0,n)]\n",
    "np.random.seed(1)\n",
    "classif = Model (A0, AL, HL_dims, 0.3)\n",
    "alph_0 = 0.001"
   ]
  },
  {
   "cell_type": "code",
   "execution_count": 10,
   "id": "5c360887-9fe1-46f1-a2a0-061a5a0c838d",
   "metadata": {
    "scrolled": true
   },
   "outputs": [
    {
     "name": "stdout",
     "output_type": "stream",
     "text": [
      "0.24063760994407773\n",
      "90.66666666666666\n"
     ]
    }
   ],
   "source": [
    "for _ in range (0,5000):\n",
    "    alph = alph_0\n",
    "    classif.training_epoch(alph, data.XT_batches, data.YT_batches)\n",
    "\n",
    "print(classif.layers[classif.n - 1].cost)\n",
    "train_pred = classif.predict(data.XT_batches[1], data.YT_batches[1])\n",
    "train_acc = 100*(1 - ((np.sum(np.abs(train_pred - data.YT_batches[1])))/data.YT_batches[1].shape[1]))\n",
    "print(train_acc)"
   ]
  }
 ],
 "metadata": {
  "kernelspec": {
   "display_name": "Python 3 (ipykernel)",
   "language": "python",
   "name": "python3"
  },
  "language_info": {
   "codemirror_mode": {
    "name": "ipython",
    "version": 3
   },
   "file_extension": ".py",
   "mimetype": "text/x-python",
   "name": "python",
   "nbconvert_exporter": "python",
   "pygments_lexer": "ipython3",
   "version": "3.11.5"
  }
 },
 "nbformat": 4,
 "nbformat_minor": 5
}
