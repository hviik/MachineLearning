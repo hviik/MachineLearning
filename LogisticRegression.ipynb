{
 "cells": [
  {
   "cell_type": "code",
   "execution_count": 33,
   "id": "b85623b6",
   "metadata": {},
   "outputs": [],
   "source": [
    "import numpy as np"
   ]
  },
  {
   "cell_type": "code",
   "execution_count": 34,
   "id": "d011bc70",
   "metadata": {},
   "outputs": [],
   "source": [
    "class LR:\n",
    "    def __init__(self, X_train, Y_train):\n",
    "        self.dimensions = X_train.shape[0]\n",
    "        self.m = X_train.shape[1]\n",
    "        self.weights = np.random.randn(1, self.dimensions)\n",
    "        self.bias = 0.0\n",
    "    \n",
    "    def sigmoid(self, x):\n",
    "        x = np.clip(x, -500, 500)  \n",
    "        return 1 / (1 + np.exp(-x))\n",
    "    \n",
    "    def sigmoid_grad(self, x):\n",
    "        return sigmoid(x) * (1 - sigmoid(x))\n",
    "    \n",
    "    def crossENT(self, x, y):\n",
    "        return -(y * np.log(x) + (1 - y) * np.log (1 - x))\n",
    "    \n",
    "    def crossENT_grad(self, x, y):\n",
    "        e = 1e-9  \n",
    "        return -(np.divide(y, x + e) - np.divide(1 - y, 1 - x + e))\n",
    "    \n",
    "    def forward_prop(self, X_train):\n",
    "        self.z = np.dot(self.weights, X_train) + self.bias\n",
    "        self.a = self.sigmoid(self.z)\n",
    "        \n",
    "    def backward_prop(self, X_train, Y_train):\n",
    "        self.dA = self.crossENT_grad(self.a, Y_train)\n",
    "        self.dZ = self.]\n",
    "\n",
    "        self.dW = np.dot(self.dZ, X_train.T)/self.m\n",
    "        self.dB = np.sum(self.dZ, axis = 1, keepdims = True)/self.m\n",
    "        \n",
    "    def trainLR(self, X_train, Y_train, nIterations, alpha):\n",
    "        for i in range(0, nIterations):\n",
    "            self.forward_prop(X_train)\n",
    "            self.backward_prop(X_train, Y_train)\n",
    "            \n",
    "            self.weights -= alpha * self.dW\n",
    "            self.bias -= alpha * self.dB\n",
    "            \n",
    "    def compute_prediction(self, X_val, Y_val):\n",
    "        self.forward_prop(X_val)\n",
    "        ACC = 1 - (np.sum(np.absolute(self.a, Y_val))/self.m)\n",
    "        return self.a"
   ]
  },
  {
   "cell_type": "code",
   "execution_count": 35,
   "id": "05dd447b",
   "metadata": {},
   "outputs": [
    {
     "name": "stdout",
     "output_type": "stream",
     "text": [
      "(30, 189)\n",
      "(30, 189)\n",
      "(30, 189)\n",
      "(1, 189)\n",
      "(1, 189)\n",
      "(1, 189)\n"
     ]
    }
   ],
   "source": [
    "from sklearn.datasets import load_breast_cancer\n",
    "cancer = load_breast_cancer()\n",
    "data = cancer.data\n",
    "target_ = cancer.target\n",
    "target = target_.reshape(target_.shape[0],1)\n",
    "\n",
    "from sklearn.utils import shuffle\n",
    "X,Y = shuffle(data, target) \n",
    "\n",
    "X_prev = X.T\n",
    "Y_prev = Y.T\n",
    "m = int(X_prev.shape[1]/3)\n",
    "\n",
    "def split_data(X_prev, Y_prev, m):\n",
    "\n",
    "    num_cols = X_prev.shape[1]  # Get the total number of columns\n",
    "    if num_cols < 3 * m:\n",
    "        raise ValueError(\"Number of columns must be at least 3 times the split size.\")\n",
    "\n",
    "    # Calculate the starting indices for each split\n",
    "    start_train = 0\n",
    "    start_val = start_train + m\n",
    "    start_test = start_val + m\n",
    "\n",
    "    # Split the matrices\n",
    "    X_train = X_prev[:, start_train:start_val]\n",
    "    X_val = X_prev[:, start_val:start_test]\n",
    "    X_test = X_prev[:, start_test:]\n",
    "    Y_train = Y_prev[:, start_train:start_val]\n",
    "    Y_val = Y_prev[:, start_val:start_test]\n",
    "    Y_test = Y_prev[:, start_test:]\n",
    "\n",
    "    return X_train, X_val, X_test, Y_train, Y_val, Y_test\n",
    "\n",
    "X_train, X_val, X_test_P, Y_train, Y_val, Y_test_P = split_data(X_prev, Y_prev, m)\n",
    "\n",
    "X_test = X_test_P[:, 0:189]\n",
    "print(X_train.shape)\n",
    "print(X_val.shape)\n",
    "print(X_test.shape)\n",
    "\n",
    "Y_test = Y_test_P[:, 0:189]\n",
    "\n",
    "print(Y_train.shape)\n",
    "print(Y_val.shape)\n",
    "print(Y_test.shape) "
   ]
  },
  {
   "cell_type": "code",
   "execution_count": 36,
   "id": "f7923cea",
   "metadata": {},
   "outputs": [
    {
     "ename": "TypeError",
     "evalue": "cannot unpack non-iterable NoneType object",
     "output_type": "error",
     "traceback": [
      "\u001b[1;31m---------------------------------------------------------------------------\u001b[0m",
      "\u001b[1;31mTypeError\u001b[0m                                 Traceback (most recent call last)",
      "Cell \u001b[1;32mIn[36], line 2\u001b[0m\n\u001b[0;32m      1\u001b[0m cancer_classification \u001b[38;5;241m=\u001b[39m LR(X_train, Y_train)\n\u001b[1;32m----> 2\u001b[0m prediction, cost \u001b[38;5;241m=\u001b[39m cancer_classification\u001b[38;5;241m.\u001b[39mtrainLR(X_train, Y_train, \u001b[38;5;241m1000\u001b[39m, \u001b[38;5;241m0.2\u001b[39m)\n",
      "\u001b[1;31mTypeError\u001b[0m: cannot unpack non-iterable NoneType object"
     ]
    }
   ],
   "source": [
    "cancer_classification = LR(X_train, Y_train)\n",
    "prediction, cost = cancer_classification.trainLR(X_train, Y_train, 1000, 0.2)"
   ]
  },
  {
   "cell_type": "code",
   "execution_count": null,
   "id": "47842743",
   "metadata": {},
   "outputs": [],
   "source": []
  },
  {
   "cell_type": "code",
   "execution_count": null,
   "id": "1f299e60",
   "metadata": {},
   "outputs": [],
   "source": []
  }
 ],
 "metadata": {
  "kernelspec": {
   "display_name": "Python 3 (ipykernel)",
   "language": "python",
   "name": "python3"
  },
  "language_info": {
   "codemirror_mode": {
    "name": "ipython",
    "version": 3
   },
   "file_extension": ".py",
   "mimetype": "text/x-python",
   "name": "python",
   "nbconvert_exporter": "python",
   "pygments_lexer": "ipython3",
   "version": "3.11.5"
  }
 },
 "nbformat": 4,
 "nbformat_minor": 5
}
